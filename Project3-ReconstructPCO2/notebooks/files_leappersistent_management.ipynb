{
 "cells": [
  {
   "cell_type": "code",
   "execution_count": 2,
   "id": "e68ac4e3-3daf-4354-9090-da88c5dbb2ea",
   "metadata": {},
   "outputs": [],
   "source": [
    "# imports to look in \"leap-persistent\" google cloud storage\n",
    "import gcsfs\n",
    "fs = gcsfs.GCSFileSystem()"
   ]
  },
  {
   "cell_type": "markdown",
   "id": "7ab0bb08-5859-4193-b141-8b50fa48b9dd",
   "metadata": {},
   "source": [
    "# looking in a cloud storage directory"
   ]
  },
  {
   "cell_type": "markdown",
   "id": "f478a1c9-0502-4ff2-a67e-5f91b9114660",
   "metadata": {},
   "source": [
    "### To look at contents in a directory, use '.ls' and put your path in the parentheses. \n",
    "\n",
    "### The path will always start with \" gs://leap-persistent/ \"\n",
    "\n",
    "We insert your username and a path associated with the default runs"
   ]
  },
  {
   "cell_type": "code",
   "execution_count": 54,
   "id": "a4fdfba7-96c8-46ff-933f-e4b8d4b0f726",
   "metadata": {},
   "outputs": [
    {
     "data": {
      "text/plain": [
       "['leap-persistent/azamkhan99/azamkhan99/pco2_residual']"
      ]
     },
     "execution_count": 54,
     "metadata": {},
     "output_type": "execute_result"
    }
   ],
   "source": [
    "your_username = 'azamkhan99' \n",
    "fs.ls(f'gs://leap-persistent/{your_username}/{your_username}/')"
   ]
  },
  {
   "cell_type": "code",
   "execution_count": null,
   "id": "adf8eb57-2b39-402f-a865-8935926e5623",
   "metadata": {},
   "outputs": [],
   "source": []
  },
  {
   "cell_type": "code",
   "execution_count": 31,
   "id": "9ceebfdc-2565-49c9-a94b-d35147bae70a",
   "metadata": {},
   "outputs": [],
   "source": [
    "accesmd_df = xr.open_zarr('gs://leap-persistent/azamkhan99/azamkhan99/pco2_residual/nmse/post02_xgb/reconstructions/ACCESS-ESM1-5/member_r10i1p1f1/recon_pCO2residual_ACCESS-ESM1-5_member_r10i1p1f1_mon_1x1_200401_202312.zarr').to_dataframe()"
   ]
  },
  {
   "cell_type": "code",
   "execution_count": 28,
   "id": "68880943-a557-4652-8a9c-d433a52dc7cd",
   "metadata": {},
   "outputs": [
    {
     "data": {
      "text/html": [
       "<div>\n",
       "<style scoped>\n",
       "    .dataframe tbody tr th:only-of-type {\n",
       "        vertical-align: middle;\n",
       "    }\n",
       "\n",
       "    .dataframe tbody tr th {\n",
       "        vertical-align: top;\n",
       "    }\n",
       "\n",
       "    .dataframe thead th {\n",
       "        text-align: right;\n",
       "    }\n",
       "</style>\n",
       "<table border=\"1\" class=\"dataframe\">\n",
       "  <thead>\n",
       "    <tr style=\"text-align: right;\">\n",
       "      <th></th>\n",
       "      <th></th>\n",
       "      <th></th>\n",
       "      <th>pCO2_recon_full</th>\n",
       "      <th>pCO2_recon_unseen</th>\n",
       "      <th>pCO2_truth</th>\n",
       "    </tr>\n",
       "    <tr>\n",
       "      <th>time</th>\n",
       "      <th>ylat</th>\n",
       "      <th>xlon</th>\n",
       "      <th></th>\n",
       "      <th></th>\n",
       "      <th></th>\n",
       "    </tr>\n",
       "  </thead>\n",
       "  <tbody>\n",
       "    <tr>\n",
       "      <th rowspan=\"5\" valign=\"top\">2004-01-01</th>\n",
       "      <th rowspan=\"5\" valign=\"top\">-89.5</th>\n",
       "      <th>-179.5</th>\n",
       "      <td>NaN</td>\n",
       "      <td>NaN</td>\n",
       "      <td>NaN</td>\n",
       "    </tr>\n",
       "    <tr>\n",
       "      <th>-178.5</th>\n",
       "      <td>NaN</td>\n",
       "      <td>NaN</td>\n",
       "      <td>NaN</td>\n",
       "    </tr>\n",
       "    <tr>\n",
       "      <th>-177.5</th>\n",
       "      <td>NaN</td>\n",
       "      <td>NaN</td>\n",
       "      <td>NaN</td>\n",
       "    </tr>\n",
       "    <tr>\n",
       "      <th>-176.5</th>\n",
       "      <td>NaN</td>\n",
       "      <td>NaN</td>\n",
       "      <td>NaN</td>\n",
       "    </tr>\n",
       "    <tr>\n",
       "      <th>-175.5</th>\n",
       "      <td>NaN</td>\n",
       "      <td>NaN</td>\n",
       "      <td>NaN</td>\n",
       "    </tr>\n",
       "    <tr>\n",
       "      <th>...</th>\n",
       "      <th>...</th>\n",
       "      <th>...</th>\n",
       "      <td>...</td>\n",
       "      <td>...</td>\n",
       "      <td>...</td>\n",
       "    </tr>\n",
       "    <tr>\n",
       "      <th rowspan=\"5\" valign=\"top\">2023-12-01</th>\n",
       "      <th rowspan=\"5\" valign=\"top\">89.5</th>\n",
       "      <th>175.5</th>\n",
       "      <td>NaN</td>\n",
       "      <td>NaN</td>\n",
       "      <td>349.393516</td>\n",
       "    </tr>\n",
       "    <tr>\n",
       "      <th>176.5</th>\n",
       "      <td>NaN</td>\n",
       "      <td>NaN</td>\n",
       "      <td>349.338248</td>\n",
       "    </tr>\n",
       "    <tr>\n",
       "      <th>177.5</th>\n",
       "      <td>NaN</td>\n",
       "      <td>NaN</td>\n",
       "      <td>349.282905</td>\n",
       "    </tr>\n",
       "    <tr>\n",
       "      <th>178.5</th>\n",
       "      <td>NaN</td>\n",
       "      <td>NaN</td>\n",
       "      <td>349.227450</td>\n",
       "    </tr>\n",
       "    <tr>\n",
       "      <th>179.5</th>\n",
       "      <td>NaN</td>\n",
       "      <td>NaN</td>\n",
       "      <td>349.171919</td>\n",
       "    </tr>\n",
       "  </tbody>\n",
       "</table>\n",
       "<p>15552000 rows × 3 columns</p>\n",
       "</div>"
      ],
      "text/plain": [
       "                         pCO2_recon_full  pCO2_recon_unseen  pCO2_truth\n",
       "time       ylat  xlon                                                  \n",
       "2004-01-01 -89.5 -179.5              NaN                NaN         NaN\n",
       "                 -178.5              NaN                NaN         NaN\n",
       "                 -177.5              NaN                NaN         NaN\n",
       "                 -176.5              NaN                NaN         NaN\n",
       "                 -175.5              NaN                NaN         NaN\n",
       "...                                  ...                ...         ...\n",
       "2023-12-01  89.5  175.5              NaN                NaN  349.393516\n",
       "                  176.5              NaN                NaN  349.338248\n",
       "                  177.5              NaN                NaN  349.282905\n",
       "                  178.5              NaN                NaN  349.227450\n",
       "                  179.5              NaN                NaN  349.171919\n",
       "\n",
       "[15552000 rows x 3 columns]"
      ]
     },
     "execution_count": 28,
     "metadata": {},
     "output_type": "execute_result"
    }
   ],
   "source": [
    "accesmd_df"
   ]
  },
  {
   "cell_type": "code",
   "execution_count": 13,
   "id": "e06cd656-ddbc-4178-a1f4-f7684b86181a",
   "metadata": {},
   "outputs": [],
   "source": [
    "import xarray as xr"
   ]
  },
  {
   "cell_type": "code",
   "execution_count": 15,
   "id": "0bc8b793-af20-4ada-8406-ff313d7e9518",
   "metadata": {},
   "outputs": [],
   "source": [
    "canesm = xr.open_zarr('gs://'+'leap-persistent/azamkhan99/azamkhan99/pco2_residual/nmse/post02_xgb/reconstructions/CanESM5/member_r1i1p1f1/recon_pCO2residual_CanESM5_member_r1i1p1f1_mon_1x1_200401_202312.zarr')"
   ]
  },
  {
   "cell_type": "code",
   "execution_count": 18,
   "id": "825134d7-d744-4135-9740-716d44a159ad",
   "metadata": {},
   "outputs": [],
   "source": [
    "canesm_df = canesm.to_dataframe()"
   ]
  },
  {
   "cell_type": "code",
   "execution_count": 24,
   "id": "383d1bdb-baab-4ac7-87f1-8aad8de2f5ff",
   "metadata": {},
   "outputs": [
    {
     "data": {
      "text/html": [
       "<div>\n",
       "<style scoped>\n",
       "    .dataframe tbody tr th:only-of-type {\n",
       "        vertical-align: middle;\n",
       "    }\n",
       "\n",
       "    .dataframe tbody tr th {\n",
       "        vertical-align: top;\n",
       "    }\n",
       "\n",
       "    .dataframe thead th {\n",
       "        text-align: right;\n",
       "    }\n",
       "</style>\n",
       "<table border=\"1\" class=\"dataframe\">\n",
       "  <thead>\n",
       "    <tr style=\"text-align: right;\">\n",
       "      <th></th>\n",
       "      <th></th>\n",
       "      <th></th>\n",
       "      <th>pCO2_recon_full</th>\n",
       "      <th>net_mask</th>\n",
       "      <th>pCO2_recon_full_mean</th>\n",
       "      <th>pCO2_recon_unseen_mean</th>\n",
       "      <th>socat_mask</th>\n",
       "      <th>pCO2_truth</th>\n",
       "      <th>pCO2_recon_unseen_std</th>\n",
       "      <th>pCO2_recon_unseen</th>\n",
       "      <th>pCO2_recon_full_std</th>\n",
       "    </tr>\n",
       "    <tr>\n",
       "      <th>time</th>\n",
       "      <th>xlon</th>\n",
       "      <th>ylat</th>\n",
       "      <th></th>\n",
       "      <th></th>\n",
       "      <th></th>\n",
       "      <th></th>\n",
       "      <th></th>\n",
       "      <th></th>\n",
       "      <th></th>\n",
       "      <th></th>\n",
       "      <th></th>\n",
       "    </tr>\n",
       "  </thead>\n",
       "  <tbody>\n",
       "    <tr>\n",
       "      <th rowspan=\"5\" valign=\"top\">2004-01-01</th>\n",
       "      <th rowspan=\"5\" valign=\"top\">-179.5</th>\n",
       "      <th>-76.5</th>\n",
       "      <td>-3.126162</td>\n",
       "      <td>1.0</td>\n",
       "      <td>-3.126162</td>\n",
       "      <td>-3.126162</td>\n",
       "      <td>0.0</td>\n",
       "      <td>-7.623447</td>\n",
       "      <td>10.209448</td>\n",
       "      <td>-3.126162</td>\n",
       "      <td>10.209448</td>\n",
       "    </tr>\n",
       "    <tr>\n",
       "      <th>-75.5</th>\n",
       "      <td>3.231421</td>\n",
       "      <td>1.0</td>\n",
       "      <td>3.231421</td>\n",
       "      <td>3.231421</td>\n",
       "      <td>0.0</td>\n",
       "      <td>-5.219215</td>\n",
       "      <td>8.702923</td>\n",
       "      <td>3.231421</td>\n",
       "      <td>8.702923</td>\n",
       "    </tr>\n",
       "    <tr>\n",
       "      <th>-74.5</th>\n",
       "      <td>-3.149131</td>\n",
       "      <td>1.0</td>\n",
       "      <td>-3.149131</td>\n",
       "      <td>-3.149131</td>\n",
       "      <td>0.0</td>\n",
       "      <td>-3.870247</td>\n",
       "      <td>7.543845</td>\n",
       "      <td>-3.149131</td>\n",
       "      <td>7.543845</td>\n",
       "    </tr>\n",
       "    <tr>\n",
       "      <th>-73.5</th>\n",
       "      <td>-3.479035</td>\n",
       "      <td>1.0</td>\n",
       "      <td>-3.479035</td>\n",
       "      <td>-3.479035</td>\n",
       "      <td>0.0</td>\n",
       "      <td>-4.868774</td>\n",
       "      <td>6.608551</td>\n",
       "      <td>-3.479035</td>\n",
       "      <td>6.608551</td>\n",
       "    </tr>\n",
       "    <tr>\n",
       "      <th>-72.5</th>\n",
       "      <td>-2.646990</td>\n",
       "      <td>1.0</td>\n",
       "      <td>-2.646990</td>\n",
       "      <td>-2.646990</td>\n",
       "      <td>0.0</td>\n",
       "      <td>-2.944900</td>\n",
       "      <td>5.256913</td>\n",
       "      <td>-2.646990</td>\n",
       "      <td>5.256913</td>\n",
       "    </tr>\n",
       "    <tr>\n",
       "      <th>...</th>\n",
       "      <th>...</th>\n",
       "      <th>...</th>\n",
       "      <td>...</td>\n",
       "      <td>...</td>\n",
       "      <td>...</td>\n",
       "      <td>...</td>\n",
       "      <td>...</td>\n",
       "      <td>...</td>\n",
       "      <td>...</td>\n",
       "      <td>...</td>\n",
       "      <td>...</td>\n",
       "    </tr>\n",
       "    <tr>\n",
       "      <th rowspan=\"5\" valign=\"top\">2023-12-01</th>\n",
       "      <th rowspan=\"5\" valign=\"top\">179.5</th>\n",
       "      <th>57.5</th>\n",
       "      <td>12.318372</td>\n",
       "      <td>1.0</td>\n",
       "      <td>12.318372</td>\n",
       "      <td>12.318372</td>\n",
       "      <td>0.0</td>\n",
       "      <td>10.277021</td>\n",
       "      <td>9.673994</td>\n",
       "      <td>12.318372</td>\n",
       "      <td>9.673994</td>\n",
       "    </tr>\n",
       "    <tr>\n",
       "      <th>58.5</th>\n",
       "      <td>10.298716</td>\n",
       "      <td>1.0</td>\n",
       "      <td>10.298716</td>\n",
       "      <td>10.298716</td>\n",
       "      <td>0.0</td>\n",
       "      <td>8.019634</td>\n",
       "      <td>10.050552</td>\n",
       "      <td>10.298716</td>\n",
       "      <td>10.050552</td>\n",
       "    </tr>\n",
       "    <tr>\n",
       "      <th>59.5</th>\n",
       "      <td>9.355980</td>\n",
       "      <td>1.0</td>\n",
       "      <td>9.355980</td>\n",
       "      <td>9.355980</td>\n",
       "      <td>0.0</td>\n",
       "      <td>6.964161</td>\n",
       "      <td>11.504381</td>\n",
       "      <td>9.355980</td>\n",
       "      <td>11.504381</td>\n",
       "    </tr>\n",
       "    <tr>\n",
       "      <th>60.5</th>\n",
       "      <td>9.353810</td>\n",
       "      <td>1.0</td>\n",
       "      <td>9.353810</td>\n",
       "      <td>9.353810</td>\n",
       "      <td>0.0</td>\n",
       "      <td>12.263339</td>\n",
       "      <td>11.530214</td>\n",
       "      <td>9.353810</td>\n",
       "      <td>11.530214</td>\n",
       "    </tr>\n",
       "    <tr>\n",
       "      <th>61.5</th>\n",
       "      <td>22.842762</td>\n",
       "      <td>1.0</td>\n",
       "      <td>22.842762</td>\n",
       "      <td>22.842762</td>\n",
       "      <td>0.0</td>\n",
       "      <td>32.152586</td>\n",
       "      <td>12.507779</td>\n",
       "      <td>22.842762</td>\n",
       "      <td>12.507779</td>\n",
       "    </tr>\n",
       "  </tbody>\n",
       "</table>\n",
       "<p>7868928 rows × 9 columns</p>\n",
       "</div>"
      ],
      "text/plain": [
       "                         pCO2_recon_full  net_mask  pCO2_recon_full_mean  \\\n",
       "time       xlon   ylat                                                     \n",
       "2004-01-01 -179.5 -76.5        -3.126162       1.0             -3.126162   \n",
       "                  -75.5         3.231421       1.0              3.231421   \n",
       "                  -74.5        -3.149131       1.0             -3.149131   \n",
       "                  -73.5        -3.479035       1.0             -3.479035   \n",
       "                  -72.5        -2.646990       1.0             -2.646990   \n",
       "...                                  ...       ...                   ...   \n",
       "2023-12-01  179.5  57.5        12.318372       1.0             12.318372   \n",
       "                   58.5        10.298716       1.0             10.298716   \n",
       "                   59.5         9.355980       1.0              9.355980   \n",
       "                   60.5         9.353810       1.0              9.353810   \n",
       "                   61.5        22.842762       1.0             22.842762   \n",
       "\n",
       "                         pCO2_recon_unseen_mean  socat_mask  pCO2_truth  \\\n",
       "time       xlon   ylat                                                    \n",
       "2004-01-01 -179.5 -76.5               -3.126162         0.0   -7.623447   \n",
       "                  -75.5                3.231421         0.0   -5.219215   \n",
       "                  -74.5               -3.149131         0.0   -3.870247   \n",
       "                  -73.5               -3.479035         0.0   -4.868774   \n",
       "                  -72.5               -2.646990         0.0   -2.944900   \n",
       "...                                         ...         ...         ...   \n",
       "2023-12-01  179.5  57.5               12.318372         0.0   10.277021   \n",
       "                   58.5               10.298716         0.0    8.019634   \n",
       "                   59.5                9.355980         0.0    6.964161   \n",
       "                   60.5                9.353810         0.0   12.263339   \n",
       "                   61.5               22.842762         0.0   32.152586   \n",
       "\n",
       "                         pCO2_recon_unseen_std  pCO2_recon_unseen  \\\n",
       "time       xlon   ylat                                              \n",
       "2004-01-01 -179.5 -76.5              10.209448          -3.126162   \n",
       "                  -75.5               8.702923           3.231421   \n",
       "                  -74.5               7.543845          -3.149131   \n",
       "                  -73.5               6.608551          -3.479035   \n",
       "                  -72.5               5.256913          -2.646990   \n",
       "...                                        ...                ...   \n",
       "2023-12-01  179.5  57.5               9.673994          12.318372   \n",
       "                   58.5              10.050552          10.298716   \n",
       "                   59.5              11.504381           9.355980   \n",
       "                   60.5              11.530214           9.353810   \n",
       "                   61.5              12.507779          22.842762   \n",
       "\n",
       "                         pCO2_recon_full_std  \n",
       "time       xlon   ylat                        \n",
       "2004-01-01 -179.5 -76.5            10.209448  \n",
       "                  -75.5             8.702923  \n",
       "                  -74.5             7.543845  \n",
       "                  -73.5             6.608551  \n",
       "                  -72.5             5.256913  \n",
       "...                                      ...  \n",
       "2023-12-01  179.5  57.5             9.673994  \n",
       "                   58.5            10.050552  \n",
       "                   59.5            11.504381  \n",
       "                   60.5            11.530214  \n",
       "                   61.5            12.507779  \n",
       "\n",
       "[7868928 rows x 9 columns]"
      ]
     },
     "execution_count": 24,
     "metadata": {},
     "output_type": "execute_result"
    }
   ],
   "source": [
    "canesm_df.dropna()"
   ]
  },
  {
   "cell_type": "markdown",
   "id": "567d75bf-2bb0-47cd-9ab0-0a4ffc5b2c54",
   "metadata": {},
   "source": [
    "# getting file sizes"
   ]
  },
  {
   "cell_type": "markdown",
   "id": "74ec2c11-8608-42f7-8116-bd122a6f9aef",
   "metadata": {},
   "source": [
    "### if we want to get info for a file on the cloud storage:"
   ]
  },
  {
   "cell_type": "code",
   "execution_count": 14,
   "id": "c8658b46-dc59-4da4-9430-6b564d41e908",
   "metadata": {},
   "outputs": [
    {
     "ename": "FileNotFoundError",
     "evalue": "leap-persistent/azamkhan99/test_folder",
     "output_type": "error",
     "traceback": [
      "\u001b[0;31m---------------------------------------------------------------------------\u001b[0m",
      "\u001b[0;31mFileNotFoundError\u001b[0m                         Traceback (most recent call last)",
      "Cell \u001b[0;32mIn[14], line 2\u001b[0m\n\u001b[1;32m      1\u001b[0m \u001b[38;5;66;03m# a random csv!\u001b[39;00m\n\u001b[0;32m----> 2\u001b[0m \u001b[43mfs\u001b[49m\u001b[38;5;241;43m.\u001b[39;49m\u001b[43minfo\u001b[49m\u001b[43m(\u001b[49m\u001b[38;5;124;43m'\u001b[39;49m\u001b[38;5;124;43mgs://leap-persistent/azamkhan99/test_folder/test.csv\u001b[39;49m\u001b[38;5;124;43m'\u001b[39;49m\u001b[43m)\u001b[49m\n",
      "File \u001b[0;32m/srv/conda/envs/notebook/lib/python3.12/site-packages/fsspec/asyn.py:118\u001b[0m, in \u001b[0;36msync_wrapper.<locals>.wrapper\u001b[0;34m(*args, **kwargs)\u001b[0m\n\u001b[1;32m    115\u001b[0m \u001b[38;5;129m@functools\u001b[39m\u001b[38;5;241m.\u001b[39mwraps(func)\n\u001b[1;32m    116\u001b[0m \u001b[38;5;28;01mdef\u001b[39;00m\u001b[38;5;250m \u001b[39m\u001b[38;5;21mwrapper\u001b[39m(\u001b[38;5;241m*\u001b[39margs, \u001b[38;5;241m*\u001b[39m\u001b[38;5;241m*\u001b[39mkwargs):\n\u001b[1;32m    117\u001b[0m     \u001b[38;5;28mself\u001b[39m \u001b[38;5;241m=\u001b[39m obj \u001b[38;5;129;01mor\u001b[39;00m args[\u001b[38;5;241m0\u001b[39m]\n\u001b[0;32m--> 118\u001b[0m     \u001b[38;5;28;01mreturn\u001b[39;00m \u001b[43msync\u001b[49m\u001b[43m(\u001b[49m\u001b[38;5;28;43mself\u001b[39;49m\u001b[38;5;241;43m.\u001b[39;49m\u001b[43mloop\u001b[49m\u001b[43m,\u001b[49m\u001b[43m \u001b[49m\u001b[43mfunc\u001b[49m\u001b[43m,\u001b[49m\u001b[43m \u001b[49m\u001b[38;5;241;43m*\u001b[39;49m\u001b[43margs\u001b[49m\u001b[43m,\u001b[49m\u001b[43m \u001b[49m\u001b[38;5;241;43m*\u001b[39;49m\u001b[38;5;241;43m*\u001b[39;49m\u001b[43mkwargs\u001b[49m\u001b[43m)\u001b[49m\n",
      "File \u001b[0;32m/srv/conda/envs/notebook/lib/python3.12/site-packages/fsspec/asyn.py:103\u001b[0m, in \u001b[0;36msync\u001b[0;34m(loop, func, timeout, *args, **kwargs)\u001b[0m\n\u001b[1;32m    101\u001b[0m     \u001b[38;5;28;01mraise\u001b[39;00m FSTimeoutError \u001b[38;5;28;01mfrom\u001b[39;00m\u001b[38;5;250m \u001b[39m\u001b[38;5;21;01mreturn_result\u001b[39;00m\n\u001b[1;32m    102\u001b[0m \u001b[38;5;28;01melif\u001b[39;00m \u001b[38;5;28misinstance\u001b[39m(return_result, \u001b[38;5;167;01mBaseException\u001b[39;00m):\n\u001b[0;32m--> 103\u001b[0m     \u001b[38;5;28;01mraise\u001b[39;00m return_result\n\u001b[1;32m    104\u001b[0m \u001b[38;5;28;01melse\u001b[39;00m:\n\u001b[1;32m    105\u001b[0m     \u001b[38;5;28;01mreturn\u001b[39;00m return_result\n",
      "File \u001b[0;32m/srv/conda/envs/notebook/lib/python3.12/site-packages/fsspec/asyn.py:56\u001b[0m, in \u001b[0;36m_runner\u001b[0;34m(event, coro, result, timeout)\u001b[0m\n\u001b[1;32m     54\u001b[0m     coro \u001b[38;5;241m=\u001b[39m asyncio\u001b[38;5;241m.\u001b[39mwait_for(coro, timeout\u001b[38;5;241m=\u001b[39mtimeout)\n\u001b[1;32m     55\u001b[0m \u001b[38;5;28;01mtry\u001b[39;00m:\n\u001b[0;32m---> 56\u001b[0m     result[\u001b[38;5;241m0\u001b[39m] \u001b[38;5;241m=\u001b[39m \u001b[38;5;28;01mawait\u001b[39;00m coro\n\u001b[1;32m     57\u001b[0m \u001b[38;5;28;01mexcept\u001b[39;00m \u001b[38;5;167;01mException\u001b[39;00m \u001b[38;5;28;01mas\u001b[39;00m ex:\n\u001b[1;32m     58\u001b[0m     result[\u001b[38;5;241m0\u001b[39m] \u001b[38;5;241m=\u001b[39m ex\n",
      "File \u001b[0;32m/srv/conda/envs/notebook/lib/python3.12/site-packages/gcsfs/core.py:984\u001b[0m, in \u001b[0;36mGCSFileSystem._info\u001b[0;34m(self, path, generation, **kwargs)\u001b[0m\n\u001b[1;32m    982\u001b[0m \u001b[38;5;66;03m# Check directory cache for parent dir\u001b[39;00m\n\u001b[1;32m    983\u001b[0m parent_path \u001b[38;5;241m=\u001b[39m \u001b[38;5;28mself\u001b[39m\u001b[38;5;241m.\u001b[39m_parent(path)\n\u001b[0;32m--> 984\u001b[0m parent_cache \u001b[38;5;241m=\u001b[39m \u001b[38;5;28;43mself\u001b[39;49m\u001b[38;5;241;43m.\u001b[39;49m\u001b[43m_ls_from_cache\u001b[49m\u001b[43m(\u001b[49m\u001b[43mparent_path\u001b[49m\u001b[43m)\u001b[49m\n\u001b[1;32m    985\u001b[0m bucket, key, path_generation \u001b[38;5;241m=\u001b[39m \u001b[38;5;28mself\u001b[39m\u001b[38;5;241m.\u001b[39msplit_path(path)\n\u001b[1;32m    986\u001b[0m generation \u001b[38;5;241m=\u001b[39m _coalesce_generation(generation, path_generation)\n",
      "File \u001b[0;32m/srv/conda/envs/notebook/lib/python3.12/site-packages/fsspec/spec.py:379\u001b[0m, in \u001b[0;36mAbstractFileSystem._ls_from_cache\u001b[0;34m(self, path)\u001b[0m\n\u001b[1;32m    371\u001b[0m     files \u001b[38;5;241m=\u001b[39m [\n\u001b[1;32m    372\u001b[0m         f\n\u001b[1;32m    373\u001b[0m         \u001b[38;5;28;01mfor\u001b[39;00m f \u001b[38;5;129;01min\u001b[39;00m \u001b[38;5;28mself\u001b[39m\u001b[38;5;241m.\u001b[39mdircache[parent]\n\u001b[1;32m    374\u001b[0m         \u001b[38;5;28;01mif\u001b[39;00m f[\u001b[38;5;124m\"\u001b[39m\u001b[38;5;124mname\u001b[39m\u001b[38;5;124m\"\u001b[39m] \u001b[38;5;241m==\u001b[39m path\n\u001b[1;32m    375\u001b[0m         \u001b[38;5;129;01mor\u001b[39;00m (f[\u001b[38;5;124m\"\u001b[39m\u001b[38;5;124mname\u001b[39m\u001b[38;5;124m\"\u001b[39m] \u001b[38;5;241m==\u001b[39m path\u001b[38;5;241m.\u001b[39mrstrip(\u001b[38;5;124m\"\u001b[39m\u001b[38;5;124m/\u001b[39m\u001b[38;5;124m\"\u001b[39m) \u001b[38;5;129;01mand\u001b[39;00m f[\u001b[38;5;124m\"\u001b[39m\u001b[38;5;124mtype\u001b[39m\u001b[38;5;124m\"\u001b[39m] \u001b[38;5;241m==\u001b[39m \u001b[38;5;124m\"\u001b[39m\u001b[38;5;124mdirectory\u001b[39m\u001b[38;5;124m\"\u001b[39m)\n\u001b[1;32m    376\u001b[0m     ]\n\u001b[1;32m    377\u001b[0m     \u001b[38;5;28;01mif\u001b[39;00m \u001b[38;5;28mlen\u001b[39m(files) \u001b[38;5;241m==\u001b[39m \u001b[38;5;241m0\u001b[39m:\n\u001b[1;32m    378\u001b[0m         \u001b[38;5;66;03m# parent dir was listed but did not contain this file\u001b[39;00m\n\u001b[0;32m--> 379\u001b[0m         \u001b[38;5;28;01mraise\u001b[39;00m \u001b[38;5;167;01mFileNotFoundError\u001b[39;00m(path)\n\u001b[1;32m    380\u001b[0m     \u001b[38;5;28;01mreturn\u001b[39;00m files\n\u001b[1;32m    381\u001b[0m \u001b[38;5;28;01mexcept\u001b[39;00m \u001b[38;5;167;01mKeyError\u001b[39;00m:\n",
      "\u001b[0;31mFileNotFoundError\u001b[0m: leap-persistent/azamkhan99/test_folder"
     ]
    }
   ],
   "source": [
    "# a random csv!\n",
    "fs.info('gs://leap-persistent/azamkhan99/test_folder/test.csv')"
   ]
  },
  {
   "cell_type": "markdown",
   "id": "6bc5f13b-971a-42b0-ad7d-c91245194c6c",
   "metadata": {},
   "source": [
    "### if we want specifically the size, we use 'fs.du()' which stands for \"disk usage\":"
   ]
  },
  {
   "cell_type": "code",
   "execution_count": 5,
   "id": "ce0af044-8377-4859-9911-abb03bed45f5",
   "metadata": {},
   "outputs": [
    {
     "data": {
      "text/plain": [
       "17"
      ]
     },
     "execution_count": 5,
     "metadata": {},
     "output_type": "execute_result"
    }
   ],
   "source": [
    "fs.du('gs://leap-persistent/galenmckinley/test_folder/test.csv')"
   ]
  },
  {
   "cell_type": "markdown",
   "id": "01b891da-0bd3-4d38-a2a0-259abf65fea7",
   "metadata": {},
   "source": [
    "### just \"17\" is unclear though -> this function will make this clearer with units!"
   ]
  },
  {
   "cell_type": "code",
   "execution_count": 6,
   "id": "0273dd56-311d-4f3e-b616-474aafbe6df6",
   "metadata": {},
   "outputs": [],
   "source": [
    "def convert_to_human_readable(size):\n",
    "    \"\"\"\n",
    "    Converts disk usage size to 'human readable' format!\n",
    "    \"\"\"\n",
    "    \n",
    "    for unit in ['B', 'KB', 'MB', 'GB', 'TB']:\n",
    "        if size < 1024:\n",
    "            return f\"{size:.2f} {unit}\"\n",
    "        size /= 1024"
   ]
  },
  {
   "cell_type": "code",
   "execution_count": 7,
   "id": "3b1df154-4f9c-4956-804c-40bcebaa5278",
   "metadata": {},
   "outputs": [
    {
     "data": {
      "text/plain": [
       "'17.00 B'"
      ]
     },
     "execution_count": 7,
     "metadata": {},
     "output_type": "execute_result"
    }
   ],
   "source": [
    "convert_to_human_readable(17)"
   ]
  },
  {
   "cell_type": "markdown",
   "id": "d7354a87-9330-4fda-ae78-e33992ac1f23",
   "metadata": {},
   "source": [
    "### that csv is 17 bytes!"
   ]
  },
  {
   "cell_type": "markdown",
   "id": "b0161216-a9c0-4d33-b818-563a2f2f6411",
   "metadata": {},
   "source": [
    "### here's another example, but with a .zarr file:"
   ]
  },
  {
   "cell_type": "code",
   "execution_count": 8,
   "id": "3ba8bdf8-5929-4949-9671-c55f36ea8669",
   "metadata": {},
   "outputs": [
    {
     "data": {
      "text/plain": [
       "166750349"
      ]
     },
     "execution_count": 8,
     "metadata": {},
     "output_type": "execute_result"
    }
   ],
   "source": [
    "fs.du('gs://leap-persistent/galenmckinley/pco2_residual/nmse/post02_xgb/reconstructions/CanESM5/member_r1i1p1f1/recon_pCO2residual_CanESM5_member_r1i1p1f1_mon_1x1_200401_202312.zarr')"
   ]
  },
  {
   "cell_type": "code",
   "execution_count": 9,
   "id": "124f4bdb-6674-4d27-aa78-01e25fd8c1d8",
   "metadata": {},
   "outputs": [
    {
     "data": {
      "text/plain": [
       "'20.85 MB'"
      ]
     },
     "execution_count": 9,
     "metadata": {},
     "output_type": "execute_result"
    }
   ],
   "source": [
    "convert_to_human_readable(21858071)"
   ]
  },
  {
   "cell_type": "markdown",
   "id": "1de7002e-f79d-4e97-bae5-9e5d0bedab1b",
   "metadata": {},
   "source": [
    "that .zarr file is 20.85 megabytes"
   ]
  },
  {
   "cell_type": "markdown",
   "id": "4f274bda-2ea7-41b2-98fe-c6b30df59eed",
   "metadata": {},
   "source": [
    "# Deleting a file\n",
    "To remove a file, you will use 'fs.rm(path)'"
   ]
  },
  {
   "cell_type": "markdown",
   "id": "973216bf-83cf-4def-90ac-feb835ed9eb5",
   "metadata": {},
   "source": [
    "# ***Be very careful*** \n",
    "\n",
    "Make sure you are sure that you are removing what you want and that you are not deleting in someone else's directory."
   ]
  },
  {
   "cell_type": "code",
   "execution_count": 11,
   "id": "c03b54ab-c40a-453c-bfb0-8b7cb23d761a",
   "metadata": {},
   "outputs": [],
   "source": [
    "# do not actually run this code, please!\n",
    "\n",
    "# fs.rm('gs://leap-persistent/galenmckinley/test_folder/test.csv')"
   ]
  },
  {
   "cell_type": "markdown",
   "id": "ec98739c-cad5-45fa-af18-5e24fbc1063f",
   "metadata": {},
   "source": [
    "### Things are more complicated with .zarr files because .zarr files are considered \"directories\" by the file system\n",
    "### If deleting a .zarr file, you will just need to add the argument 'recursive=True' inside the parentheses"
   ]
  },
  {
   "cell_type": "code",
   "execution_count": 12,
   "id": "0d60ab76-74b9-4c57-ac12-a2871805bc86",
   "metadata": {},
   "outputs": [],
   "source": [
    "# fs.rm('gs://leap-persistent/....../filename.zarr', recursive=True)"
   ]
  },
  {
   "cell_type": "code",
   "execution_count": null,
   "id": "9a46d3cd-d093-4c4d-ad65-64cc2d8a2293",
   "metadata": {},
   "outputs": [],
   "source": []
  }
 ],
 "metadata": {
  "kernelspec": {
   "display_name": "Python 3 (ipykernel)",
   "language": "python",
   "name": "python3"
  },
  "language_info": {
   "codemirror_mode": {
    "name": "ipython",
    "version": 3
   },
   "file_extension": ".py",
   "mimetype": "text/x-python",
   "name": "python",
   "nbconvert_exporter": "python",
   "pygments_lexer": "ipython3",
   "version": "3.12.8"
  }
 },
 "nbformat": 4,
 "nbformat_minor": 5
}
